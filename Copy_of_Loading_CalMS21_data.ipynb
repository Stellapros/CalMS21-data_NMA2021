{
  "nbformat": 4,
  "nbformat_minor": 0,
  "metadata": {
    "colab": {
      "name": "Copy of Loading CalMS21 data",
      "provenance": [],
      "collapsed_sections": [
        "YFcS9p3haBkK"
      ],
      "toc_visible": true,
      "include_colab_link": true
    },
    "kernelspec": {
      "display_name": "Python 3",
      "name": "python3"
    }
  },
  "cells": [
    {
      "cell_type": "markdown",
      "metadata": {
        "id": "view-in-github",
        "colab_type": "text"
      },
      "source": [
        "<a href=\"https://colab.research.google.com/github/Stellapros/CalMS21-data_NMA2021/blob/main/Copy_of_Loading_CalMS21_data.ipynb\" target=\"_parent\"><img src=\"https://colab.research.google.com/assets/colab-badge.svg\" alt=\"Open In Colab\"/></a>"
      ]
    },
    {
      "cell_type": "markdown",
      "metadata": {
        "id": "f4w4yZOfV5le"
      },
      "source": [
        "<h1>\n",
        "Behavior classification starter kit 🐁🐀\n",
        "</h1>\n",
        "This code is adapted from a notebook created by Dipam Chakraborty at AIcrowd for the <a href=https://www.aicrowd.com/challenges/multi-agent-behavior-representation-modeling-measurement-and-applications>Multi-Agent Behavior Challenge</a>.\n",
        "\n",
        "Hi all\n"
      ]
    },
    {
      "cell_type": "markdown",
      "metadata": {
        "id": "jsaWsU8dILfN"
      },
      "source": [
        "# Import necessary modules and packages 📚\n"
      ]
    },
    {
      "cell_type": "code",
      "metadata": {
        "id": "G4CVVoCjIN95"
      },
      "source": [
        "import pandas as pd\n",
        "import numpy as np\n",
        "import os\n",
        "import json\n",
        "import urllib.request\n",
        "import matplotlib.pyplot as plt"
      ],
      "execution_count": null,
      "outputs": []
    },
    {
      "cell_type": "markdown",
      "metadata": {
        "id": "KwykJ9kzvTRZ"
      },
      "source": [
        "# Download the dataset 📲\n",
        "\n",
        "> Indented block\n",
        "\n",
        "\n",
        "\n",
        "The CalMS21 dataset is hosted by Caltech at https://data.caltech.edu/records/1991. For now, we'll focus on the Task 1 data, which can be downloaded as follows:"
      ]
    },
    {
      "cell_type": "code",
      "metadata": {
        "colab": {
          "base_uri": "https://localhost:8080/"
        },
        "id": "eua-L3A_okrf",
        "outputId": "c6970abc-7464-428c-d1e6-7519b8be70c2"
      },
      "source": [
        "urllib.request.urlretrieve('https://data.caltech.edu/tindfiles/serve/a86f4297-a087-4f40-9ed4-765779105c2c/', 'task1.zip')\n",
        "urllib.request.urlretrieve('https://data.caltech.edu/tindfiles/serve/ca84a583-ea06-440a-995c-c184bcb0291c/', 'calms21_convert_to_npy.py')\n",
        "!unzip task1.zip"
      ],
      "execution_count": null,
      "outputs": [
        {
          "output_type": "stream",
          "text": [
            "Archive:  task1.zip\n",
            "replace task1_classic_classification/taskprog_features_task1_train.json? [y]es, [n]o, [A]ll, [N]one, [r]ename: "
          ],
          "name": "stdout"
        }
      ]
    },
    {
      "cell_type": "markdown",
      "metadata": {
        "id": "7MLxouZUvTRa"
      },
      "source": [
        "The dataset files are stored as json files. For ease of handling, we'll first convert them to .npy files using the script we just downloaded, `calms21_convert_to_npy.py`. The output of this script is a pair of files, `calms21_task1_train.npy` and `calms21_task1_test.npy`.\n",
        "\n",
        "If you include the optional `parse_treba` flag, the script will create files `calms21_task1_train_features.npy` and `calms21_task1_test_features.npy`, which contain 32 features created using <a href=https://openaccess.thecvf.com/content/CVPR2021/html/Sun_Task_Programming_Learning_Data_Efficient_Behavior_Representations_CVPR_2021_paper.html>Task Programming</a>.\n",
        "\n"
      ]
    },
    {
      "cell_type": "code",
      "metadata": {
        "id": "IezJP7janpBy",
        "colab": {
          "base_uri": "https://localhost:8080/"
        },
        "outputId": "7901e1ee-270f-4b44-cad3-1243ab343d0d"
      },
      "source": [
        "!python calms21_convert_to_npy.py  --input_directory '.' --output_directory '.'\n",
        "!python calms21_convert_to_npy.py  --input_directory '.' --output_directory '.' --parse_treba"
      ],
      "execution_count": null,
      "outputs": [
        {
          "output_type": "stream",
          "text": [
            "Saving ./calms21_task1_test\n",
            "tcmalloc: large alloc 1224941568 bytes == 0x5604160c0000 @  0x7fee2057b1e7 0x5603c8269e68 0x5603c8234637 0x5603c83b3605 0x5603c834d0b8 0x5603c8237f02 0x5603c8315d1e 0x5603c834d032 0x5603c8237f02 0x5603c823b186 0x5603c83b6c93 0x5603c8237b59 0x5603c8328fed 0x5603c82ab988 0x5603c82a67ad 0x5603c82393ea 0x5603c82ab7f0 0x5603c82a64ae 0x5603c82393ea 0x5603c82a73b5 0x5603c823930a 0x5603c82a73b5 0x5603c82a64ae 0x5603c82a61b3 0x5603c8370182 0x5603c83704fd 0x5603c83703a6 0x5603c8347723 0x5603c83473cc 0x7fee1f365bf7 0x5603c83472aa\n",
            "tcmalloc: large alloc 1224941568 bytes == 0x56045f0f2000 @  0x7fee2057b1e7 0x5603c8269e68 0x5603c827f01c 0x5603c830bf33 0x5603c8237b59 0x5603c8237a50 0x5603c82abbe0 0x5603c82a64ae 0x5603c8239a81 0x5603c8238f30 0x5603c823aee8 0x5603c83174f1 0x5603c83b6cc1 0x5603c8237b59 0x5603c8328fed 0x5603c82ab988 0x5603c82a67ad 0x5603c82393ea 0x5603c82ab7f0 0x5603c82a64ae 0x5603c82393ea 0x5603c82a73b5 0x5603c823930a 0x5603c82a73b5 0x5603c82a64ae 0x5603c82a61b3 0x5603c8370182 0x5603c83704fd 0x5603c83703a6 0x5603c8347723 0x5603c83473cc\n",
            "Saving ./calms21_task1_train\n",
            "Saving ./calms21_task1_test_features\n",
            "tcmalloc: large alloc 1224941568 bytes == 0x560a230c8000 @  0x7fe4890611e7 0x5609d5639e68 0x5609d5604637 0x5609d5783605 0x5609d571d0b8 0x5609d5607f02 0x5609d56e5d1e 0x5609d571d032 0x5609d5607f02 0x5609d560b186 0x5609d5786c93 0x5609d5607b59 0x5609d56f8fed 0x5609d567b988 0x5609d56767ad 0x5609d56093ea 0x5609d567b7f0 0x5609d56764ae 0x5609d56093ea 0x5609d56773b5 0x5609d560930a 0x5609d56773b5 0x5609d56764ae 0x5609d56761b3 0x5609d5740182 0x5609d57404fd 0x5609d57403a6 0x5609d5717723 0x5609d57173cc 0x7fe487e4bbf7 0x5609d57172aa\n",
            "tcmalloc: large alloc 1224941568 bytes == 0x560a6c0fa000 @  0x7fe4890611e7 0x5609d5639e68 0x5609d564f01c 0x5609d56dbf33 0x5609d5607b59 0x5609d5607a50 0x5609d567bbe0 0x5609d56764ae 0x5609d5609a81 0x5609d5608f30 0x5609d560aee8 0x5609d56e74f1 0x5609d5786cc1 0x5609d5607b59 0x5609d56f8fed 0x5609d567b988 0x5609d56767ad 0x5609d56093ea 0x5609d567b7f0 0x5609d56764ae 0x5609d56093ea 0x5609d56773b5 0x5609d560930a 0x5609d56773b5 0x5609d56764ae 0x5609d56761b3 0x5609d5740182 0x5609d57404fd 0x5609d57403a6 0x5609d5717723 0x5609d57173cc\n",
            "Saving ./calms21_task1_train_features\n"
          ],
          "name": "stdout"
        }
      ]
    },
    {
      "cell_type": "markdown",
      "metadata": {
        "id": "CjooSFrVoIxz"
      },
      "source": [
        "#Load the data 💾\n",
        "The following loader function can be used to unpack the `.npy` files containing your train and test sets."
      ]
    },
    {
      "cell_type": "code",
      "metadata": {
        "id": "RopVoFl1vTRb"
      },
      "source": [
        "import numpy as np\n",
        "\n",
        "def load_task1_data(data_path):\n",
        "    \"\"\" \n",
        "    Load data for task 1:\n",
        "        The vocaubulary tells you how to map behavior names to class ids;\n",
        "        it is the same for all sequences in this dataset.\n",
        "    \"\"\"\n",
        "    data_dict = np.load(data_path, allow_pickle=True).item()\n",
        "    dataset = data_dict['annotator-id_0']\n",
        "    # Get any sequence key.\n",
        "    sequence_id = list(data_dict['annotator-id_0'].keys())[0]\n",
        "    vocabulary = data_dict['annotator-id_0'][sequence_id]['metadata']['vocab']\n",
        "    return dataset, vocabulary\n"
      ],
      "execution_count": null,
      "outputs": []
    },
    {
      "cell_type": "code",
      "metadata": {
        "id": "UB5RakCHomqC"
      },
      "source": [
        "training_data, vocab = load_task1_data('./calms21_task1_train.npy')\n",
        "test_data, _ = load_task1_data('./calms21_task1_test.npy')"
      ],
      "execution_count": null,
      "outputs": []
    },
    {
      "cell_type": "markdown",
      "metadata": {
        "id": "YFcS9p3haBkK"
      },
      "source": [
        "## Dataset Specifications\n",
        "\n",
        "`training_data` and `test_data` are both dictionaries with a key for each Sequence in the dataset, where a Sequence is a single resident-intruder assay. Each Sequence contains the following fields:\n",
        "\n",
        "<ul>\n",
        "<li><b>keypoints</b>: tracked locations of body parts on the two interacting mice. These are produced using a Stacked Hourglass network trained on 15,000 hand-labeled frames.\n",
        "<ul>\n",
        "<li>Dimensions: (# frames) x (mouse ID) x (x, y coordinate) x (body part).\n",
        "<li>Units: pixels; coordinates are relative to the entire image. Original image dimensions are 1024 x 570.\n",
        "</ul>\n",
        "<li><b>scores</b>: confidence estimates for the tracked keypoints.\n",
        "<ul>\n",
        "<li>Dimensions: (# frames) x (mouse ID) x (body part).\n",
        "<li>Units: unitless, range 0 (lowest confidence) to 1 (highest confidence).\n",
        "</ul>\n",
        "<li> <b>annotations</b>: behaviors id as an integer annotated at each frame by a domain expert. See below for the behavior id to behavior name mappings.\n",
        "<ul>\n",
        "<li>Dimensions: (# frames) .\n",
        "</ul>\n",
        "<li><b>metadata</b>: The recorded metadata is annotator_id which is represented by an int, and the vocab, containing a dictionary which maps behavior names to integer ids in annotations.\n",
        "</ul>\n",
        "\n",
        "The 'taskprog_features' file contains the additional field:\n",
        "\n",
        "<ul>\n",
        "<li><b>features</b>: pre-computed features from a model trained with task programming on the trajectory data of the CalMS21 unlabeled videos set.\n",
        "<ul>\n",
        "<li>Dimensions: (# frames) x (feature dim = 32).\n",
        "</li>\n",
        "</ul>\n",
        "</ul>\n",
        "\n",
        "<b>NOTE:</b> for all keypoints, mouse 0 is the resident (black) mouse and mouse 1 is the intruder (white) mouse. There are 7 tracked body parts, ordered (nose, left ear, right ear, neck, left hip, right hip, tail base)."
      ]
    },
    {
      "cell_type": "markdown",
      "metadata": {
        "id": "JUkb35tcf4bn"
      },
      "source": [
        "## What does the data look like? 🔍\n",
        "\n",
        "### Data overview\n",
        "\n",
        "As described above, our dataset consists of train and test sets, which are both dictionaries of Sequences, and an accompanying vocabulary telling us which behavior is which:"
      ]
    },
    {
      "cell_type": "code",
      "metadata": {
        "colab": {
          "base_uri": "https://localhost:8080/"
        },
        "id": "CYIC5DW_oRPb",
        "outputId": "ca6cd2ed-077a-488e-ada8-26fc78971c11"
      },
      "source": [
        "print(\"Sample dataset keys: \", list(training_data.keys())[:3])\n",
        "print(\"Vocabulary: \", vocab)\n",
        "print(\"Number of train Sequences: \", len(training_data))\n",
        "print(\"Number of test Sequences: \", len(test_data))"
      ],
      "execution_count": null,
      "outputs": [
        {
          "output_type": "stream",
          "text": [
            "Sample dataset keys:  ['task1/train/mouse001_task1_annotator1', 'task1/train/mouse002_task1_annotator1', 'task1/train/mouse003_task1_annotator1']\n",
            "Vocabulary:  {'attack': 0, 'investigation': 1, 'mount': 2, 'other': 3}\n",
            "Number of train Sequences:  70\n",
            "Number of test Sequences:  19\n"
          ],
          "name": "stdout"
        }
      ]
    },
    {
      "cell_type": "markdown",
      "metadata": {
        "id": "luUly4Y1i4L-"
      },
      "source": [
        "### Sample overview\n",
        "Next let's take a look at one example Sequence:"
      ]
    },
    {
      "cell_type": "code",
      "metadata": {
        "colab": {
          "base_uri": "https://localhost:8080/"
        },
        "id": "Hh9dj4wG3rV0",
        "outputId": "08e78b38-2ae0-481c-f89e-66e93c0cb6c1"
      },
      "source": [
        "sequence_names = list(training_data.keys())\n",
        "sample_sequence_key = sequence_names[55]\n",
        "single_sequence = training_data[sample_sequence_key]\n",
        "print(\"Name of our sample sequence: \", sample_sequence_key)\n",
        "print(\"Sequence keys: \", single_sequence.keys())\n",
        "print(\"Sequence metadata: \", single_sequence['metadata'])\n",
        "print(f\"Number of Frames in Sequence \\\"{sample_sequence_key}\\\": \", len(single_sequence['annotations']))\n",
        "print(f\"Keypoints data shape of Sequence \\\"{sample_sequence_key}\\\": \", single_sequence['keypoints'].shape)\n"
      ],
      "execution_count": null,
      "outputs": [
        {
          "output_type": "stream",
          "text": [
            "Name of our sample sequence:  task1/train/mouse056_task1_annotator1\n",
            "Sequence keys:  dict_keys(['keypoints', 'scores', 'annotations', 'metadata'])\n",
            "Sequence metadata:  {'annotator-id': 0, 'vocab': {'attack': 0, 'investigation': 1, 'mount': 2, 'other': 3}}\n",
            "Number of Frames in Sequence \"task1/train/mouse056_task1_annotator1\":  16420\n",
            "Keypoints data shape of Sequence \"task1/train/mouse056_task1_annotator1\":  (16420, 2, 2, 7)\n"
          ],
          "name": "stdout"
        }
      ]
    },
    {
      "cell_type": "markdown",
      "metadata": {
        "id": "_WGK1pjV81oc"
      },
      "source": [
        "# Helper functions for visualization 💁\n",
        "\n",
        "\n",
        "This cell contains some helper functions that we'll use to create an animation of the mouse movements. You can ignore the contents, but be sure to run it or the next section won't work."
      ]
    },
    {
      "cell_type": "code",
      "metadata": {
        "id": "kf7CXiH85odZ"
      },
      "source": [
        "import matplotlib.pyplot as plt\n",
        "from matplotlib import animation\n",
        "from matplotlib import colors\n",
        "from matplotlib import rc\n",
        " \n",
        "rc('animation', html='jshtml')\n",
        " \n",
        "# Note: Image processing may be slow if too many frames are animated.                \n",
        " \n",
        "#Plotting constants\n",
        "FRAME_WIDTH_TOP = 1024\n",
        "FRAME_HEIGHT_TOP = 570\n",
        " \n",
        "RESIDENT_COLOR = 'lawngreen'\n",
        "INTRUDER_COLOR = 'skyblue'\n",
        " \n",
        "PLOT_MOUSE_START_END = [(0, 1), (0, 2), (1, 3), (2, 3), (3, 4),\n",
        "                        (3, 5), (4, 6), (5, 6), (1, 2)]\n",
        " \n",
        "class_to_color = {'other': 'white', 'attack' : 'red', 'mount' : 'green',\n",
        "                  'investigation': 'orange'}\n",
        " \n",
        "class_to_number = {s: i for i, s in enumerate(vocab)}\n",
        " \n",
        "number_to_class = {i: s for i, s in enumerate(vocab)}\n",
        " \n",
        "def num_to_text(anno_list):\n",
        "  return np.vectorize(number_to_class.get)(anno_list)\n",
        " \n",
        "def set_figax():\n",
        "    fig = plt.figure(figsize=(6, 4))\n",
        " \n",
        "    img = np.zeros((FRAME_HEIGHT_TOP, FRAME_WIDTH_TOP, 3))\n",
        " \n",
        "    ax = fig.add_subplot(111)\n",
        "    ax.imshow(img)\n",
        " \n",
        "    ax.get_xaxis().set_visible(False)\n",
        "    ax.get_yaxis().set_visible(False)\n",
        " \n",
        "    return fig, ax\n",
        " \n",
        "def plot_mouse(ax, pose, color):\n",
        "    # Draw each keypoint\n",
        "    for j in range(7):\n",
        "        ax.plot(pose[j, 0], pose[j, 1], 'o', color=color, markersize=5)\n",
        " \n",
        "    # Draw a line for each point pair to form the shape of the mouse\n",
        " \n",
        "    for pair in PLOT_MOUSE_START_END:\n",
        "        line_to_plot = pose[pair, :]\n",
        "        ax.plot(line_to_plot[:, 0], line_to_plot[\n",
        "                :, 1], color=color, linewidth=1)\n",
        " \n",
        "def animate_pose_sequence(video_name, keypoint_sequence, start_frame = 0, stop_frame = 100, \n",
        "                          annotation_sequence = None):\n",
        "    # Returns the animation of the keypoint sequence between start frame\n",
        "    # and stop frame. Optionally can display annotations.\n",
        "    seq = keypoint_sequence.transpose((0,1,3,2))\n",
        " \n",
        "    image_list = []\n",
        "    \n",
        "    counter = 0\n",
        "    for j in range(start_frame, stop_frame):\n",
        "        if counter%20 == 0:\n",
        "          print(\"Processing frame \", j)\n",
        "        fig, ax = set_figax()\n",
        "        plot_mouse(ax, seq[j, 0, :, :], color=RESIDENT_COLOR)\n",
        "        plot_mouse(ax, seq[j, 1, :, :], color=INTRUDER_COLOR)\n",
        "        \n",
        "        if annotation_sequence is not None:\n",
        "          annot = annotation_sequence[j]\n",
        "          annot = number_to_class[annot]\n",
        "          plt.text(50, -20, annot, fontsize = 16, \n",
        "                   bbox=dict(facecolor=class_to_color[annot], alpha=0.5))\n",
        " \n",
        "        ax.set_title(\n",
        "            video_name + '\\n frame {:03d}.png'.format(j))\n",
        " \n",
        "        ax.axis('off')\n",
        "        fig.tight_layout(pad=0)\n",
        "        ax.margins(0)\n",
        " \n",
        "        fig.canvas.draw()\n",
        "        image_from_plot = np.frombuffer(fig.canvas.tostring_rgb(),\n",
        "                                        dtype=np.uint8)\n",
        "        image_from_plot = image_from_plot.reshape(\n",
        "            fig.canvas.get_width_height()[::-1] + (3,)) \n",
        " \n",
        "        image_list.append(image_from_plot)\n",
        " \n",
        "        plt.close()\n",
        "        counter = counter + 1\n",
        " \n",
        "    # Plot animation.\n",
        "    fig = plt.figure()\n",
        "    plt.axis('off')\n",
        "    im = plt.imshow(image_list[0])\n",
        " \n",
        "    def animate(k):\n",
        "        im.set_array(image_list[k])\n",
        "        return im,\n",
        "    ani = animation.FuncAnimation(fig, animate, frames=len(image_list), blit=True)\n",
        "    return ani\n",
        " \n",
        "def plot_behavior_raster(annotation_sequence, start_frame = 0, stop_frame = 100, title=\"Behavior Labels\"):\n",
        "  # Plot annotations as a behavior raster\n",
        " \n",
        "  # Map annotations to a number.\n",
        "  annotation_num = []\n",
        "  for item in annotation_sequence[start_frame:stop_frame]:\n",
        "    annotation_num.append(class_to_number[item])\n",
        " \n",
        "  all_classes = list(set(annotation_sequence[start_frame:stop_frame]))\n",
        " \n",
        "  cmap = colors.ListedColormap(['red', 'orange', 'green', 'white'])\n",
        "  bounds=[-0.5,0.5,1.5, 2.5, 3.5]\n",
        "  norm = colors.BoundaryNorm(bounds, cmap.N)\n",
        " \n",
        "  height = 200\n",
        "  arr_to_plot = np.repeat(np.array(annotation_num)[:,np.newaxis].transpose(),\n",
        "                                                  height, axis = 0)\n",
        "  \n",
        "  fig, ax = plt.subplots(figsize = (16, 3))\n",
        "  ax.imshow(arr_to_plot, interpolation = 'none',cmap=cmap, norm=norm)\n",
        " \n",
        "  ax.set_yticks([])\n",
        "  ax.set_xlabel('Frame Number')\n",
        "  plt.title(title)\n",
        " \n",
        "  import matplotlib.patches as mpatches\n",
        " \n",
        "  legend_patches = []\n",
        "  for item in all_classes:\n",
        "    legend_patches.append(mpatches.Patch(color=class_to_color[item], label=item))\n",
        " \n",
        "  plt.legend(handles=legend_patches,loc='center left', bbox_to_anchor=(1, 0.5))\n",
        " \n",
        "  plt.tight_layout()"
      ],
      "execution_count": null,
      "outputs": []
    },
    {
      "cell_type": "markdown",
      "metadata": {
        "id": "p7WPezuV86QA"
      },
      "source": [
        "# Visualize the animals' movements 🎥\n",
        "\n",
        "Let's make some gifs of our sample sequence to get a sense of what the raw data looks like! You can change the values of `start_frame` and `stop_frame` to look around."
      ]
    },
    {
      "cell_type": "code",
      "metadata": {
        "colab": {
          "base_uri": "https://localhost:8080/",
          "height": 792
        },
        "id": "KSUZW-9J53kI",
        "outputId": "38f60ba3-cd4c-4170-edea-4140de376079"
      },
      "source": [
        "#@title\n",
        "keypoint_sequence = single_sequence['keypoints']\n",
        "annotation_sequence = single_sequence['annotations']\n",
        "\n",
        "ani = animate_pose_sequence(sample_sequence_key,\n",
        "                            keypoint_sequence, \n",
        "                            start_frame = 0,\n",
        "                            stop_frame = 100,\n",
        "                            annotation_sequence = annotation_sequence)\n",
        "\n",
        "# Display the animaion on colab\n",
        "ani"
      ],
      "execution_count": null,
      "outputs": [
        {
          "output_type": "stream",
          "text": [
            "Processing frame  0\n",
            "Processing frame  20\n",
            "Processing frame  40\n",
            "Processing frame  60\n"
          ],
          "name": "stdout"
        },
        {
          "output_type": "stream",
          "text": [
            "Exception ignored in: <function TransformNode.set_children.<locals>.<lambda> at 0x7f46da6a3170>\n",
            "Traceback (most recent call last):\n",
            "  File \"/usr/local/lib/python3.7/dist-packages/matplotlib/transforms.py\", line 177, in <lambda>\n",
            "    ref = weakref.ref(self, lambda ref, sid=id(self),\n",
            "KeyboardInterrupt\n"
          ],
          "name": "stderr"
        },
        {
          "output_type": "stream",
          "text": [
            "Processing frame  80\n"
          ],
          "name": "stdout"
        },
        {
          "output_type": "error",
          "ename": "KeyboardInterrupt",
          "evalue": "ignored",
          "traceback": [
            "\u001b[0;31m---------------------------------------------------------------------------\u001b[0m",
            "\u001b[0;31mKeyboardInterrupt\u001b[0m                         Traceback (most recent call last)",
            "\u001b[0;32m<ipython-input-9-06bc355f0543>\u001b[0m in \u001b[0;36m<module>\u001b[0;34m()\u001b[0m\n\u001b[1;32m     10\u001b[0m \u001b[0;34m\u001b[0m\u001b[0m\n\u001b[1;32m     11\u001b[0m \u001b[0;31m# Display the animaion on colab\u001b[0m\u001b[0;34m\u001b[0m\u001b[0;34m\u001b[0m\u001b[0;34m\u001b[0m\u001b[0m\n\u001b[0;32m---> 12\u001b[0;31m \u001b[0mani\u001b[0m\u001b[0;34m\u001b[0m\u001b[0;34m\u001b[0m\u001b[0m\n\u001b[0m",
            "\u001b[0;32m/usr/local/lib/python3.7/dist-packages/IPython/core/displayhook.py\u001b[0m in \u001b[0;36m__call__\u001b[0;34m(self, result)\u001b[0m\n\u001b[1;32m    244\u001b[0m             \u001b[0mself\u001b[0m\u001b[0;34m.\u001b[0m\u001b[0mstart_displayhook\u001b[0m\u001b[0;34m(\u001b[0m\u001b[0;34m)\u001b[0m\u001b[0;34m\u001b[0m\u001b[0;34m\u001b[0m\u001b[0m\n\u001b[1;32m    245\u001b[0m             \u001b[0mself\u001b[0m\u001b[0;34m.\u001b[0m\u001b[0mwrite_output_prompt\u001b[0m\u001b[0;34m(\u001b[0m\u001b[0;34m)\u001b[0m\u001b[0;34m\u001b[0m\u001b[0;34m\u001b[0m\u001b[0m\n\u001b[0;32m--> 246\u001b[0;31m             \u001b[0mformat_dict\u001b[0m\u001b[0;34m,\u001b[0m \u001b[0mmd_dict\u001b[0m \u001b[0;34m=\u001b[0m \u001b[0mself\u001b[0m\u001b[0;34m.\u001b[0m\u001b[0mcompute_format_data\u001b[0m\u001b[0;34m(\u001b[0m\u001b[0mresult\u001b[0m\u001b[0;34m)\u001b[0m\u001b[0;34m\u001b[0m\u001b[0;34m\u001b[0m\u001b[0m\n\u001b[0m\u001b[1;32m    247\u001b[0m             \u001b[0mself\u001b[0m\u001b[0;34m.\u001b[0m\u001b[0mupdate_user_ns\u001b[0m\u001b[0;34m(\u001b[0m\u001b[0mresult\u001b[0m\u001b[0;34m)\u001b[0m\u001b[0;34m\u001b[0m\u001b[0;34m\u001b[0m\u001b[0m\n\u001b[1;32m    248\u001b[0m             \u001b[0mself\u001b[0m\u001b[0;34m.\u001b[0m\u001b[0mfill_exec_result\u001b[0m\u001b[0;34m(\u001b[0m\u001b[0mresult\u001b[0m\u001b[0;34m)\u001b[0m\u001b[0;34m\u001b[0m\u001b[0;34m\u001b[0m\u001b[0m\n",
            "\u001b[0;32m/usr/local/lib/python3.7/dist-packages/IPython/core/displayhook.py\u001b[0m in \u001b[0;36mcompute_format_data\u001b[0;34m(self, result)\u001b[0m\n\u001b[1;32m    148\u001b[0m \u001b[0;34m\u001b[0m\u001b[0m\n\u001b[1;32m    149\u001b[0m         \"\"\"\n\u001b[0;32m--> 150\u001b[0;31m         \u001b[0;32mreturn\u001b[0m \u001b[0mself\u001b[0m\u001b[0;34m.\u001b[0m\u001b[0mshell\u001b[0m\u001b[0;34m.\u001b[0m\u001b[0mdisplay_formatter\u001b[0m\u001b[0;34m.\u001b[0m\u001b[0mformat\u001b[0m\u001b[0;34m(\u001b[0m\u001b[0mresult\u001b[0m\u001b[0;34m)\u001b[0m\u001b[0;34m\u001b[0m\u001b[0;34m\u001b[0m\u001b[0m\n\u001b[0m\u001b[1;32m    151\u001b[0m \u001b[0;34m\u001b[0m\u001b[0m\n\u001b[1;32m    152\u001b[0m     \u001b[0;31m# This can be set to True by the write_output_prompt method in a subclass\u001b[0m\u001b[0;34m\u001b[0m\u001b[0;34m\u001b[0m\u001b[0;34m\u001b[0m\u001b[0m\n",
            "\u001b[0;32m/usr/local/lib/python3.7/dist-packages/IPython/core/formatters.py\u001b[0m in \u001b[0;36mformat\u001b[0;34m(self, obj, include, exclude)\u001b[0m\n\u001b[1;32m    171\u001b[0m             \u001b[0mmd\u001b[0m \u001b[0;34m=\u001b[0m \u001b[0;32mNone\u001b[0m\u001b[0;34m\u001b[0m\u001b[0;34m\u001b[0m\u001b[0m\n\u001b[1;32m    172\u001b[0m             \u001b[0;32mtry\u001b[0m\u001b[0;34m:\u001b[0m\u001b[0;34m\u001b[0m\u001b[0;34m\u001b[0m\u001b[0m\n\u001b[0;32m--> 173\u001b[0;31m                 \u001b[0mdata\u001b[0m \u001b[0;34m=\u001b[0m \u001b[0mformatter\u001b[0m\u001b[0;34m(\u001b[0m\u001b[0mobj\u001b[0m\u001b[0;34m)\u001b[0m\u001b[0;34m\u001b[0m\u001b[0;34m\u001b[0m\u001b[0m\n\u001b[0m\u001b[1;32m    174\u001b[0m             \u001b[0;32mexcept\u001b[0m\u001b[0;34m:\u001b[0m\u001b[0;34m\u001b[0m\u001b[0;34m\u001b[0m\u001b[0m\n\u001b[1;32m    175\u001b[0m                 \u001b[0;31m# FIXME: log the exception\u001b[0m\u001b[0;34m\u001b[0m\u001b[0;34m\u001b[0m\u001b[0;34m\u001b[0m\u001b[0m\n",
            "\u001b[0;32m<decorator-gen-2>\u001b[0m in \u001b[0;36m__call__\u001b[0;34m(self, obj)\u001b[0m\n",
            "\u001b[0;32m/usr/local/lib/python3.7/dist-packages/IPython/core/formatters.py\u001b[0m in \u001b[0;36mcatch_format_error\u001b[0;34m(method, self, *args, **kwargs)\u001b[0m\n\u001b[1;32m    215\u001b[0m     \u001b[0;34m\"\"\"show traceback on failed format call\"\"\"\u001b[0m\u001b[0;34m\u001b[0m\u001b[0;34m\u001b[0m\u001b[0m\n\u001b[1;32m    216\u001b[0m     \u001b[0;32mtry\u001b[0m\u001b[0;34m:\u001b[0m\u001b[0;34m\u001b[0m\u001b[0;34m\u001b[0m\u001b[0m\n\u001b[0;32m--> 217\u001b[0;31m         \u001b[0mr\u001b[0m \u001b[0;34m=\u001b[0m \u001b[0mmethod\u001b[0m\u001b[0;34m(\u001b[0m\u001b[0mself\u001b[0m\u001b[0;34m,\u001b[0m \u001b[0;34m*\u001b[0m\u001b[0margs\u001b[0m\u001b[0;34m,\u001b[0m \u001b[0;34m**\u001b[0m\u001b[0mkwargs\u001b[0m\u001b[0;34m)\u001b[0m\u001b[0;34m\u001b[0m\u001b[0;34m\u001b[0m\u001b[0m\n\u001b[0m\u001b[1;32m    218\u001b[0m     \u001b[0;32mexcept\u001b[0m \u001b[0mNotImplementedError\u001b[0m\u001b[0;34m:\u001b[0m\u001b[0;34m\u001b[0m\u001b[0;34m\u001b[0m\u001b[0m\n\u001b[1;32m    219\u001b[0m         \u001b[0;31m# don't warn on NotImplementedErrors\u001b[0m\u001b[0;34m\u001b[0m\u001b[0;34m\u001b[0m\u001b[0;34m\u001b[0m\u001b[0m\n",
            "\u001b[0;32m/usr/local/lib/python3.7/dist-packages/IPython/core/formatters.py\u001b[0m in \u001b[0;36m__call__\u001b[0;34m(self, obj)\u001b[0m\n\u001b[1;32m    336\u001b[0m             \u001b[0mmethod\u001b[0m \u001b[0;34m=\u001b[0m \u001b[0mget_real_method\u001b[0m\u001b[0;34m(\u001b[0m\u001b[0mobj\u001b[0m\u001b[0;34m,\u001b[0m \u001b[0mself\u001b[0m\u001b[0;34m.\u001b[0m\u001b[0mprint_method\u001b[0m\u001b[0;34m)\u001b[0m\u001b[0;34m\u001b[0m\u001b[0;34m\u001b[0m\u001b[0m\n\u001b[1;32m    337\u001b[0m             \u001b[0;32mif\u001b[0m \u001b[0mmethod\u001b[0m \u001b[0;32mis\u001b[0m \u001b[0;32mnot\u001b[0m \u001b[0;32mNone\u001b[0m\u001b[0;34m:\u001b[0m\u001b[0;34m\u001b[0m\u001b[0;34m\u001b[0m\u001b[0m\n\u001b[0;32m--> 338\u001b[0;31m                 \u001b[0;32mreturn\u001b[0m \u001b[0mmethod\u001b[0m\u001b[0;34m(\u001b[0m\u001b[0;34m)\u001b[0m\u001b[0;34m\u001b[0m\u001b[0;34m\u001b[0m\u001b[0m\n\u001b[0m\u001b[1;32m    339\u001b[0m             \u001b[0;32mreturn\u001b[0m \u001b[0;32mNone\u001b[0m\u001b[0;34m\u001b[0m\u001b[0;34m\u001b[0m\u001b[0m\n\u001b[1;32m    340\u001b[0m         \u001b[0;32melse\u001b[0m\u001b[0;34m:\u001b[0m\u001b[0;34m\u001b[0m\u001b[0;34m\u001b[0m\u001b[0m\n",
            "\u001b[0;32m/usr/local/lib/python3.7/dist-packages/matplotlib/animation.py\u001b[0m in \u001b[0;36m_repr_html_\u001b[0;34m(self)\u001b[0m\n\u001b[1;32m   1391\u001b[0m             \u001b[0;32mreturn\u001b[0m \u001b[0mself\u001b[0m\u001b[0;34m.\u001b[0m\u001b[0mto_html5_video\u001b[0m\u001b[0;34m(\u001b[0m\u001b[0;34m)\u001b[0m\u001b[0;34m\u001b[0m\u001b[0;34m\u001b[0m\u001b[0m\n\u001b[1;32m   1392\u001b[0m         \u001b[0;32melif\u001b[0m \u001b[0mfmt\u001b[0m \u001b[0;34m==\u001b[0m \u001b[0;34m'jshtml'\u001b[0m\u001b[0;34m:\u001b[0m\u001b[0;34m\u001b[0m\u001b[0;34m\u001b[0m\u001b[0m\n\u001b[0;32m-> 1393\u001b[0;31m             \u001b[0;32mreturn\u001b[0m \u001b[0mself\u001b[0m\u001b[0;34m.\u001b[0m\u001b[0mto_jshtml\u001b[0m\u001b[0;34m(\u001b[0m\u001b[0;34m)\u001b[0m\u001b[0;34m\u001b[0m\u001b[0;34m\u001b[0m\u001b[0m\n\u001b[0m\u001b[1;32m   1394\u001b[0m \u001b[0;34m\u001b[0m\u001b[0m\n\u001b[1;32m   1395\u001b[0m \u001b[0;34m\u001b[0m\u001b[0m\n",
            "\u001b[0;32m/usr/local/lib/python3.7/dist-packages/matplotlib/animation.py\u001b[0m in \u001b[0;36mto_jshtml\u001b[0;34m(self, fps, embed_frames, default_mode)\u001b[0m\n\u001b[1;32m   1380\u001b[0m                                     \u001b[0membed_frames\u001b[0m\u001b[0;34m=\u001b[0m\u001b[0membed_frames\u001b[0m\u001b[0;34m,\u001b[0m\u001b[0;34m\u001b[0m\u001b[0;34m\u001b[0m\u001b[0m\n\u001b[1;32m   1381\u001b[0m                                     default_mode=default_mode)\n\u001b[0;32m-> 1382\u001b[0;31m                 \u001b[0mself\u001b[0m\u001b[0;34m.\u001b[0m\u001b[0msave\u001b[0m\u001b[0;34m(\u001b[0m\u001b[0mstr\u001b[0m\u001b[0;34m(\u001b[0m\u001b[0mpath\u001b[0m\u001b[0;34m)\u001b[0m\u001b[0;34m,\u001b[0m \u001b[0mwriter\u001b[0m\u001b[0;34m=\u001b[0m\u001b[0mwriter\u001b[0m\u001b[0;34m)\u001b[0m\u001b[0;34m\u001b[0m\u001b[0;34m\u001b[0m\u001b[0m\n\u001b[0m\u001b[1;32m   1383\u001b[0m                 \u001b[0mself\u001b[0m\u001b[0;34m.\u001b[0m\u001b[0m_html_representation\u001b[0m \u001b[0;34m=\u001b[0m \u001b[0mpath\u001b[0m\u001b[0;34m.\u001b[0m\u001b[0mread_text\u001b[0m\u001b[0;34m(\u001b[0m\u001b[0;34m)\u001b[0m\u001b[0;34m\u001b[0m\u001b[0;34m\u001b[0m\u001b[0m\n\u001b[1;32m   1384\u001b[0m \u001b[0;34m\u001b[0m\u001b[0m\n",
            "\u001b[0;32m/usr/local/lib/python3.7/dist-packages/matplotlib/animation.py\u001b[0m in \u001b[0;36msave\u001b[0;34m(self, filename, writer, fps, dpi, codec, bitrate, extra_args, metadata, extra_anim, savefig_kwargs, progress_callback)\u001b[0m\n\u001b[1;32m   1150\u001b[0m                             \u001b[0mprogress_callback\u001b[0m\u001b[0;34m(\u001b[0m\u001b[0mframe_number\u001b[0m\u001b[0;34m,\u001b[0m \u001b[0mtotal_frames\u001b[0m\u001b[0;34m)\u001b[0m\u001b[0;34m\u001b[0m\u001b[0;34m\u001b[0m\u001b[0m\n\u001b[1;32m   1151\u001b[0m                             \u001b[0mframe_number\u001b[0m \u001b[0;34m+=\u001b[0m \u001b[0;36m1\u001b[0m\u001b[0;34m\u001b[0m\u001b[0;34m\u001b[0m\u001b[0m\n\u001b[0;32m-> 1152\u001b[0;31m                     \u001b[0mwriter\u001b[0m\u001b[0;34m.\u001b[0m\u001b[0mgrab_frame\u001b[0m\u001b[0;34m(\u001b[0m\u001b[0;34m**\u001b[0m\u001b[0msavefig_kwargs\u001b[0m\u001b[0;34m)\u001b[0m\u001b[0;34m\u001b[0m\u001b[0;34m\u001b[0m\u001b[0m\n\u001b[0m\u001b[1;32m   1153\u001b[0m \u001b[0;34m\u001b[0m\u001b[0m\n\u001b[1;32m   1154\u001b[0m         \u001b[0;31m# Reconnect signal for first draw if necessary\u001b[0m\u001b[0;34m\u001b[0m\u001b[0;34m\u001b[0m\u001b[0;34m\u001b[0m\u001b[0m\n",
            "\u001b[0;32m/usr/local/lib/python3.7/dist-packages/matplotlib/animation.py\u001b[0m in \u001b[0;36mgrab_frame\u001b[0;34m(self, **savefig_kwargs)\u001b[0m\n\u001b[1;32m    842\u001b[0m             \u001b[0mf\u001b[0m \u001b[0;34m=\u001b[0m \u001b[0mBytesIO\u001b[0m\u001b[0;34m(\u001b[0m\u001b[0;34m)\u001b[0m\u001b[0;34m\u001b[0m\u001b[0;34m\u001b[0m\u001b[0m\n\u001b[1;32m    843\u001b[0m             self.fig.savefig(f, format=self.frame_format,\n\u001b[0;32m--> 844\u001b[0;31m                              dpi=self.dpi, **savefig_kwargs)\n\u001b[0m\u001b[1;32m    845\u001b[0m             \u001b[0mimgdata64\u001b[0m \u001b[0;34m=\u001b[0m \u001b[0mbase64\u001b[0m\u001b[0;34m.\u001b[0m\u001b[0mencodebytes\u001b[0m\u001b[0;34m(\u001b[0m\u001b[0mf\u001b[0m\u001b[0;34m.\u001b[0m\u001b[0mgetvalue\u001b[0m\u001b[0;34m(\u001b[0m\u001b[0;34m)\u001b[0m\u001b[0;34m)\u001b[0m\u001b[0;34m.\u001b[0m\u001b[0mdecode\u001b[0m\u001b[0;34m(\u001b[0m\u001b[0;34m'ascii'\u001b[0m\u001b[0;34m)\u001b[0m\u001b[0;34m\u001b[0m\u001b[0;34m\u001b[0m\u001b[0m\n\u001b[1;32m    846\u001b[0m             \u001b[0mself\u001b[0m\u001b[0;34m.\u001b[0m\u001b[0m_total_bytes\u001b[0m \u001b[0;34m+=\u001b[0m \u001b[0mlen\u001b[0m\u001b[0;34m(\u001b[0m\u001b[0mimgdata64\u001b[0m\u001b[0;34m)\u001b[0m\u001b[0;34m\u001b[0m\u001b[0;34m\u001b[0m\u001b[0m\n",
            "\u001b[0;32m/usr/local/lib/python3.7/dist-packages/matplotlib/figure.py\u001b[0m in \u001b[0;36msavefig\u001b[0;34m(self, fname, transparent, **kwargs)\u001b[0m\n\u001b[1;32m   2201\u001b[0m             \u001b[0mself\u001b[0m\u001b[0;34m.\u001b[0m\u001b[0mpatch\u001b[0m\u001b[0;34m.\u001b[0m\u001b[0mset_visible\u001b[0m\u001b[0;34m(\u001b[0m\u001b[0mframeon\u001b[0m\u001b[0;34m)\u001b[0m\u001b[0;34m\u001b[0m\u001b[0;34m\u001b[0m\u001b[0m\n\u001b[1;32m   2202\u001b[0m \u001b[0;34m\u001b[0m\u001b[0m\n\u001b[0;32m-> 2203\u001b[0;31m         \u001b[0mself\u001b[0m\u001b[0;34m.\u001b[0m\u001b[0mcanvas\u001b[0m\u001b[0;34m.\u001b[0m\u001b[0mprint_figure\u001b[0m\u001b[0;34m(\u001b[0m\u001b[0mfname\u001b[0m\u001b[0;34m,\u001b[0m \u001b[0;34m**\u001b[0m\u001b[0mkwargs\u001b[0m\u001b[0;34m)\u001b[0m\u001b[0;34m\u001b[0m\u001b[0;34m\u001b[0m\u001b[0m\n\u001b[0m\u001b[1;32m   2204\u001b[0m \u001b[0;34m\u001b[0m\u001b[0m\n\u001b[1;32m   2205\u001b[0m         \u001b[0;32mif\u001b[0m \u001b[0mframeon\u001b[0m\u001b[0;34m:\u001b[0m\u001b[0;34m\u001b[0m\u001b[0;34m\u001b[0m\u001b[0m\n",
            "\u001b[0;32m/usr/local/lib/python3.7/dist-packages/matplotlib/backend_bases.py\u001b[0m in \u001b[0;36mprint_figure\u001b[0;34m(self, filename, dpi, facecolor, edgecolor, orientation, format, bbox_inches, **kwargs)\u001b[0m\n\u001b[1;32m   2124\u001b[0m                     \u001b[0morientation\u001b[0m\u001b[0;34m=\u001b[0m\u001b[0morientation\u001b[0m\u001b[0;34m,\u001b[0m\u001b[0;34m\u001b[0m\u001b[0;34m\u001b[0m\u001b[0m\n\u001b[1;32m   2125\u001b[0m                     \u001b[0mbbox_inches_restore\u001b[0m\u001b[0;34m=\u001b[0m\u001b[0m_bbox_inches_restore\u001b[0m\u001b[0;34m,\u001b[0m\u001b[0;34m\u001b[0m\u001b[0;34m\u001b[0m\u001b[0m\n\u001b[0;32m-> 2126\u001b[0;31m                     **kwargs)\n\u001b[0m\u001b[1;32m   2127\u001b[0m             \u001b[0;32mfinally\u001b[0m\u001b[0;34m:\u001b[0m\u001b[0;34m\u001b[0m\u001b[0;34m\u001b[0m\u001b[0m\n\u001b[1;32m   2128\u001b[0m                 \u001b[0;32mif\u001b[0m \u001b[0mbbox_inches\u001b[0m \u001b[0;32mand\u001b[0m \u001b[0mrestore_bbox\u001b[0m\u001b[0;34m:\u001b[0m\u001b[0;34m\u001b[0m\u001b[0;34m\u001b[0m\u001b[0m\n",
            "\u001b[0;32m/usr/local/lib/python3.7/dist-packages/matplotlib/backends/backend_agg.py\u001b[0m in \u001b[0;36mprint_png\u001b[0;34m(self, filename_or_obj, metadata, pil_kwargs, *args, **kwargs)\u001b[0m\n\u001b[1;32m    535\u001b[0m             \u001b[0;32mwith\u001b[0m \u001b[0mcbook\u001b[0m\u001b[0;34m.\u001b[0m\u001b[0mopen_file_cm\u001b[0m\u001b[0;34m(\u001b[0m\u001b[0mfilename_or_obj\u001b[0m\u001b[0;34m,\u001b[0m \u001b[0;34m\"wb\"\u001b[0m\u001b[0;34m)\u001b[0m \u001b[0;32mas\u001b[0m \u001b[0mfh\u001b[0m\u001b[0;34m:\u001b[0m\u001b[0;34m\u001b[0m\u001b[0;34m\u001b[0m\u001b[0m\n\u001b[1;32m    536\u001b[0m                 _png.write_png(renderer._renderer, fh, self.figure.dpi,\n\u001b[0;32m--> 537\u001b[0;31m                                metadata={**default_metadata, **metadata})\n\u001b[0m\u001b[1;32m    538\u001b[0m \u001b[0;34m\u001b[0m\u001b[0m\n\u001b[1;32m    539\u001b[0m     \u001b[0;32mdef\u001b[0m \u001b[0mprint_to_buffer\u001b[0m\u001b[0;34m(\u001b[0m\u001b[0mself\u001b[0m\u001b[0;34m)\u001b[0m\u001b[0;34m:\u001b[0m\u001b[0;34m\u001b[0m\u001b[0;34m\u001b[0m\u001b[0m\n",
            "\u001b[0;31mKeyboardInterrupt\u001b[0m: "
          ]
        },
        {
          "output_type": "display_data",
          "data": {
            "image/png": "[encoded data removed]",
            "text/plain": [
              "<Figure size 432x288 with 1 Axes>"
            ]
          },
          "metadata": {
            "tags": []
          }
        }
      ]
    },
    {
      "cell_type": "markdown",
      "metadata": {
        "id": "_jhj4BtOkjM5"
      },
      "source": [
        "### We can also look at a **behavior raster**, which shows what behavior was annotated on each frame of this video."
      ]
    },
    {
      "cell_type": "code",
      "metadata": {
        "id": "1u28cZOL8G29"
      },
      "source": [
        "annotation_sequence = single_sequence['annotations']\n",
        "text_sequence = num_to_text(annotation_sequence)\n",
        " \n",
        "plot_behavior_raster(\n",
        "    text_sequence,\n",
        "    start_frame=0,\n",
        "    stop_frame=len(annotation_sequence)\n",
        ")"
      ],
      "execution_count": null,
      "outputs": []
    },
    {
      "cell_type": "markdown",
      "metadata": {
        "id": "rOs2KLHe9Ip1"
      },
      "source": [
        "# Basic exploratory data analysis 🤓\n",
        "Each Sequence has different amounts of each behavior, depending on what the mice do during the assay. Here, we get the percentage of frames of each behavior in each sequence. We can use this to split the training set into train and validation sets in a stratified way."
      ]
    },
    {
      "cell_type": "code",
      "metadata": {
        "colab": {
          "base_uri": "https://localhost:8080/",
          "height": 221
        },
        "id": "JoqaPWYM9gdi",
        "outputId": "59241ca6-b67f-425f-8525-20e699b96e31"
      },
      "source": [
        "def get_percentage(sequence_key):\n",
        "  anno_seq = num_to_text(training_data[sequence_key]['annotations'])\n",
        "  counts = {k: np.mean(np.array(anno_seq) == k)*100.0 for k in vocab}\n",
        "  return counts\n",
        "\n",
        "anno_percentages = {k: get_percentage(k) for k in training_data}\n",
        "\n",
        "anno_perc_df = pd.DataFrame(anno_percentages).T\n",
        "print(\"Percentage of frames in every sequence for every class\")\n",
        "\n",
        "\n",
        "#len(anno_perc_df[(anno_perc_df.attack > 0) & (anno_perc_df.mount > 0) ])\n",
        "anno_perc_df[(anno_perc_df.attack > 0) & (anno_perc_df.mount > 0) ]\n",
        "\n"
      ],
      "execution_count": null,
      "outputs": [
        {
          "output_type": "stream",
          "text": [
            "Percentage of frames in every sequence for every class\n"
          ],
          "name": "stdout"
        },
        {
          "output_type": "execute_result",
          "data": {
            "text/html": [
              "<div>\n",
              "<style scoped>\n",
              "    .dataframe tbody tr th:only-of-type {\n",
              "        vertical-align: middle;\n",
              "    }\n",
              "\n",
              "    .dataframe tbody tr th {\n",
              "        vertical-align: top;\n",
              "    }\n",
              "\n",
              "    .dataframe thead th {\n",
              "        text-align: right;\n",
              "    }\n",
              "</style>\n",
              "<table border=\"1\" class=\"dataframe\">\n",
              "  <thead>\n",
              "    <tr style=\"text-align: right;\">\n",
              "      <th></th>\n",
              "      <th>attack</th>\n",
              "      <th>investigation</th>\n",
              "      <th>mount</th>\n",
              "      <th>other</th>\n",
              "    </tr>\n",
              "  </thead>\n",
              "  <tbody>\n",
              "    <tr>\n",
              "      <th>task1/train/mouse008_task1_annotator1</th>\n",
              "      <td>7.328833</td>\n",
              "      <td>26.413606</td>\n",
              "      <td>1.788376</td>\n",
              "      <td>64.469186</td>\n",
              "    </tr>\n",
              "    <tr>\n",
              "      <th>task1/train/mouse018_task1_annotator1</th>\n",
              "      <td>4.537294</td>\n",
              "      <td>35.841358</td>\n",
              "      <td>4.390403</td>\n",
              "      <td>55.230945</td>\n",
              "    </tr>\n",
              "    <tr>\n",
              "      <th>task1/train/mouse034_task1_annotator1</th>\n",
              "      <td>81.826742</td>\n",
              "      <td>3.578154</td>\n",
              "      <td>4.331450</td>\n",
              "      <td>10.263653</td>\n",
              "    </tr>\n",
              "    <tr>\n",
              "      <th>task1/train/mouse045_task1_annotator1</th>\n",
              "      <td>43.826023</td>\n",
              "      <td>28.566163</td>\n",
              "      <td>1.032068</td>\n",
              "      <td>26.575746</td>\n",
              "    </tr>\n",
              "    <tr>\n",
              "      <th>task1/train/mouse070_task1_annotator1</th>\n",
              "      <td>8.742123</td>\n",
              "      <td>26.314110</td>\n",
              "      <td>0.909308</td>\n",
              "      <td>64.034458</td>\n",
              "    </tr>\n",
              "  </tbody>\n",
              "</table>\n",
              "</div>"
            ],
            "text/plain": [
              "                                          attack  ...      other\n",
              "task1/train/mouse008_task1_annotator1   7.328833  ...  64.469186\n",
              "task1/train/mouse018_task1_annotator1   4.537294  ...  55.230945\n",
              "task1/train/mouse034_task1_annotator1  81.826742  ...  10.263653\n",
              "task1/train/mouse045_task1_annotator1  43.826023  ...  26.575746\n",
              "task1/train/mouse070_task1_annotator1   8.742123  ...  64.034458\n",
              "\n",
              "[5 rows x 4 columns]"
            ]
          },
          "metadata": {
            "tags": []
          },
          "execution_count": 30
        }
      ]
    },
    {
      "cell_type": "markdown",
      "metadata": {
        "id": "QcGC3YGTU_9X"
      },
      "source": [
        "## Percent of frames of each behavior in the full training set\n",
        "Having looked at behavior distributions in a couple example Sequences, let's now look at the average over the entire training set."
      ]
    },
    {
      "cell_type": "code",
      "metadata": {
        "colab": {
          "base_uri": "https://localhost:8080/",
          "height": 173
        },
        "id": "1HFOPsoF_LAy",
        "outputId": "49bd729c-1f64-4534-92b5-402452d20987"
      },
      "source": [
        "all_annotations = []\n",
        "for sk in training_data:\n",
        "  anno = training_data[sk]['annotations']\n",
        "  all_annotations.extend(list(anno))\n",
        "all_annotations = num_to_text(all_annotations)\n",
        "classes, counts = np.unique(all_annotations, return_counts=True)\n",
        "pd.DataFrame({\"Behavior\": classes,\n",
        "              \"Percentage Frames\": counts/len(all_annotations)*100.0})"
      ],
      "execution_count": null,
      "outputs": [
        {
          "output_type": "execute_result",
          "data": {
            "text/html": [
              "<div>\n",
              "<style scoped>\n",
              "    .dataframe tbody tr th:only-of-type {\n",
              "        vertical-align: middle;\n",
              "    }\n",
              "\n",
              "    .dataframe tbody tr th {\n",
              "        vertical-align: top;\n",
              "    }\n",
              "\n",
              "    .dataframe thead th {\n",
              "        text-align: right;\n",
              "    }\n",
              "</style>\n",
              "<table border=\"1\" class=\"dataframe\">\n",
              "  <thead>\n",
              "    <tr style=\"text-align: right;\">\n",
              "      <th></th>\n",
              "      <th>Behavior</th>\n",
              "      <th>Percentage Frames</th>\n",
              "    </tr>\n",
              "  </thead>\n",
              "  <tbody>\n",
              "    <tr>\n",
              "      <th>0</th>\n",
              "      <td>attack</td>\n",
              "      <td>2.765009</td>\n",
              "    </tr>\n",
              "    <tr>\n",
              "      <th>1</th>\n",
              "      <td>investigation</td>\n",
              "      <td>28.876113</td>\n",
              "    </tr>\n",
              "    <tr>\n",
              "      <th>2</th>\n",
              "      <td>mount</td>\n",
              "      <td>5.635781</td>\n",
              "    </tr>\n",
              "    <tr>\n",
              "      <th>3</th>\n",
              "      <td>other</td>\n",
              "      <td>62.723097</td>\n",
              "    </tr>\n",
              "  </tbody>\n",
              "</table>\n",
              "</div>"
            ],
            "text/plain": [
              "        Behavior  Percentage Frames\n",
              "0         attack           2.765009\n",
              "1  investigation          28.876113\n",
              "2          mount           5.635781\n",
              "3          other          62.723097"
            ]
          },
          "metadata": {
            "tags": []
          },
          "execution_count": 31
        }
      ]
    },
    {
      "cell_type": "markdown",
      "metadata": {
        "id": "DgxwPih4uUS4"
      },
      "source": [
        "# Split training data into train/validation sets\n",
        "Because we don't want to overfit to our test set, we'll create a new validation set to test on while we're experimenting with our model.\n",
        "\n",
        "We'll use the first cell to create some helper functions, and then implement the split in the following cell."
      ]
    },
    {
      "cell_type": "code",
      "metadata": {
        "id": "abMVVpWZud-_"
      },
      "source": [
        "from sklearn.model_selection import train_test_split\n",
        "import numpy as np\n",
        "import pandas as pd\n",
        "\n",
        "\n",
        "def num_to_text(number_to_class, anno_list):\n",
        "    \"\"\" \n",
        "    Convert list of class numbers to list of class names\n",
        "    \"\"\"\n",
        "    return np.vectorize(number_to_class.get)(anno_list)\n",
        "\n",
        "\n",
        "def split_validation(orig_pose_dictionary, vocabulary, seed=2021,\n",
        "               test_size=0.5, split_videos=False):\n",
        "    \"\"\" \n",
        "    Split data into train and validation sets:\n",
        "    * Full sequences are either put into train or validation to avoid data leakage\n",
        "    * By default, the \"attack\" behavior's presence is used to stratify the split\n",
        "    * Optionally, the sequences may be split into half and treated as separate sequences\n",
        "    \"\"\"\n",
        "\n",
        "    if test_size == 0.0:\n",
        "        return orig_pose_dictionary, None\n",
        "\n",
        "    number_to_class = {v: k for k, v in vocabulary.items()}\n",
        "    if split_videos:\n",
        "        pose_dictionary = {}\n",
        "        for key in orig_pose_dictionary:\n",
        "            key_pt1 = key + '_part1'\n",
        "            key_pt2 = key + '_part2'\n",
        "            anno_len = len(orig_pose_dictionary[key]['annotations'])\n",
        "            split_idx = anno_len//2\n",
        "            pose_dictionary[key_pt1] = {\n",
        "                'annotations': orig_pose_dictionary[key]['annotations'][:split_idx],\n",
        "                'keypoints': orig_pose_dictionary[key]['keypoints'][:split_idx]}\n",
        "            pose_dictionary[key_pt2] = {\n",
        "                'annotations': orig_pose_dictionary[key]['annotations'][split_idx:],\n",
        "                'keypoints': orig_pose_dictionary[key]['keypoints'][split_idx:]}\n",
        "    else:\n",
        "        pose_dictionary = orig_pose_dictionary\n",
        "\n",
        "    def get_percentage(sequence_key):\n",
        "        anno_seq = num_to_text(\n",
        "            number_to_class, pose_dictionary[sequence_key]['annotations'])\n",
        "        counts = {k: np.mean(np.array(anno_seq) == k) for k in vocabulary}\n",
        "        return counts\n",
        "\n",
        "    anno_percentages = {k: get_percentage(k) for k in pose_dictionary}\n",
        "\n",
        "    anno_perc_df = pd.DataFrame(anno_percentages).T\n",
        "\n",
        "    rng_state = np.random.RandomState(seed)\n",
        "    try:\n",
        "        idx_train, idx_val = train_test_split(anno_perc_df.index,\n",
        "                                              stratify=anno_perc_df['attack'] > 0,\n",
        "                                              test_size=test_size,\n",
        "                                              random_state=rng_state)\n",
        "    except:\n",
        "        idx_train, idx_val = train_test_split(anno_perc_df.index,\n",
        "                                              test_size=test_size,\n",
        "                                              random_state=rng_state)\n",
        "\n",
        "    train_data = {k: pose_dictionary[k] for k in idx_train}\n",
        "    val_data = {k: pose_dictionary[k] for k in idx_val}\n",
        "    return train_data, val_data"
      ],
      "execution_count": null,
      "outputs": []
    },
    {
      "cell_type": "code",
      "metadata": {
        "id": "RUNQAXsdu1Ni"
      },
      "source": [
        "train, val = split_validation(training_data, vocab, test_size=0.25)\n",
        "print(\"Number of Sequences in train set: \", len(train))\n",
        "print(\"Number of Sequences in validation set: \", len(val))"
      ],
      "execution_count": null,
      "outputs": []
    },
    {
      "cell_type": "markdown",
      "metadata": {
        "id": "o6LvO7SU_BFe"
      },
      "source": [
        "# Preprocessing script\n",
        "\n",
        "We might also want to normalize the data, based on the information that the frame size is 1024x570\n",
        "\n",
        "The original data is of shape (sequence length, mouse, x y coordinate, keypoint)\n",
        " = (length, 2, 2, 7)\n",
        "\n",
        "If `rotate==True`, this code also swaps the x y and the keypoint axis, to make rotation of the poses (eg to center on one of the mice) easier."
      ]
    },
    {
      "cell_type": "code",
      "metadata": {
        "id": "lHQfl7FU-9yr"
      },
      "source": [
        "def normalize_data(orig_pose_dictionary, rotate=False):\n",
        "  for key in orig_pose_dictionary:\n",
        "    X = orig_pose_dictionary[key]['keypoints']\n",
        "    if rotate:\n",
        "      X = X.transpose((0,1,3,2)) #last axis is x, y coordinates\n",
        "      X[..., 0] = X[..., 0]/1024\n",
        "      X[..., 1] = X[..., 1]/570\n",
        "    else:\n",
        "      X[:,:,0,:] = X[:,:,0,:]/1024\n",
        "      X[:,:,1,:] = X[:,:,1,:]/570\n",
        "    orig_pose_dictionary[key]['keypoints'] = X\n",
        "  return orig_pose_dictionary"
      ],
      "execution_count": null,
      "outputs": []
    },
    {
      "cell_type": "markdown",
      "metadata": {
        "id": "G9ws2_nujDox"
      },
      "source": [
        "# Parameter trial 🧪"
      ]
    },
    {
      "cell_type": "code",
      "metadata": {
        "colab": {
          "base_uri": "https://localhost:8080/"
        },
        "id": "Ny8Th1fYjAGd",
        "outputId": "5956a954-c014-4f41-99ed-a59d37aae3f6"
      },
      "source": [
        "sequence_names = list(training_data.keys())\n",
        "sample_sequence_key = sequence_names[55]\n",
        "single_sequence = training_data[sample_sequence_key]\n",
        "print(\"Name of our sample sequence: \", sample_sequence_key)\n",
        "print(\"Sequence keys: \", single_sequence.keys())\n",
        "print(\"Sequence metadata: \", single_sequence['metadata'])\n",
        "print(f\"Number of Frames in Sequence \\\"{sample_sequence_key}\\\": \", len(single_sequence['annotations']))\n",
        "print(f\"Keypoints data shape of Sequence \\\"{sample_sequence_key}\\\": \", single_sequence['keypoints'].shape)"
      ],
      "execution_count": null,
      "outputs": [
        {
          "output_type": "stream",
          "text": [
            "Name of our sample sequence:  task1/train/mouse056_task1_annotator1\n",
            "Sequence keys:  dict_keys(['keypoints', 'scores', 'annotations', 'metadata'])\n",
            "Sequence metadata:  {'annotator-id': 0, 'vocab': {'attack': 0, 'investigation': 1, 'mount': 2, 'other': 3}}\n",
            "Number of Frames in Sequence \"task1/train/mouse056_task1_annotator1\":  16420\n",
            "Keypoints data shape of Sequence \"task1/train/mouse056_task1_annotator1\":  (16420, 2, 2, 7)\n"
          ],
          "name": "stdout"
        }
      ]
    },
    {
      "cell_type": "markdown",
      "metadata": {
        "id": "O7y98a0FsUsf"
      },
      "source": [
        "Calculate distance for one body part"
      ]
    },
    {
      "cell_type": "code",
      "metadata": {
        "colab": {
          "base_uri": "https://localhost:8080/",
          "height": 319
        },
        "id": "o-aQvTHOjgb3",
        "outputId": "57f14645-a029-4b2c-a556-fa04ae583e9c"
      },
      "source": [
        "Mouse_number_55 = training_data[sample_sequence_key]\n",
        "nose_track_res = (Mouse_number_55['keypoints'][:,1,:,1]) \n",
        "nose_track_int = (Mouse_number_55['keypoints'][:,0,:,1]) \n",
        "\n",
        "mouse_55_nose_dist = np.zeros(len(nose_track ))\n",
        "\n",
        "for frame in range(1,len(nose_track)):\n",
        "    mouse_55_nose_dist[frame] = np.sqrt((nose_track[frame,0] - nose_track[frame-1,0])**2 + (nose_track[frame,1] - nose_track[frame-1,1])**2)\n",
        "\n",
        "print(mouse_55_nose_dist)\n",
        "#plt.plot(mouse_55_nose_dist)\n",
        "print(len(mouse_55_nose_dist))\n",
        "\n",
        "velocity = np.diff(mouse_55_nose_dist)                       \n",
        "plt.plot(velocity)\n",
        "\n",
        "\n"
      ],
      "execution_count": null,
      "outputs": [
        {
          "output_type": "stream",
          "text": [
            "[0.         3.15245389 3.48113154 ... 0.20737828 0.43429305 1.00327678]\n",
            "16420\n"
          ],
          "name": "stdout"
        },
        {
          "output_type": "execute_result",
          "data": {
            "text/plain": [
              "[<matplotlib.lines.Line2D at 0x7efc318633d0>]"
            ]
          },
          "metadata": {
            "tags": []
          },
          "execution_count": 31
        },
        {
          "output_type": "display_data",
          "data": {
            "image/png": "[encoded data removed]",
            "text/plain": [
              "<Figure size 432x288 with 1 Axes>"
            ]
          },
          "metadata": {
            "tags": [],
            "needs_background": "light"
          }
        }
      ]
    },
    {
      "cell_type": "code",
      "metadata": {
        "colab": {
          "base_uri": "https://localhost:8080/",
          "height": 283
        },
        "id": "7915hs1Ksd7F",
        "outputId": "e5092dc1-da34-40cc-8958-e1036aa10352"
      },
      "source": [
        "distance_btw_noses = np.zeros(len(nose_track_res))\n",
        "\n",
        "for frame in range(1,len(nose_track)):\n",
        "    distance_btw_noses[frame] = np.sqrt((nose_track_res[frame,0] - nose_track_int[frame,0])**2 + (nose_track_res[frame,1] - nose_track_int[frame,1])**2)\n",
        "\n",
        "plt.plot(distance_btw_noses)\n",
        "\n"
      ],
      "execution_count": null,
      "outputs": [
        {
          "output_type": "execute_result",
          "data": {
            "text/plain": [
              "[<matplotlib.lines.Line2D at 0x7efc317f9d10>]"
            ]
          },
          "metadata": {
            "tags": []
          },
          "execution_count": 33
        },
        {
          "output_type": "display_data",
          "data": {
            "image/png": "[encoded data removed]",
            "text/plain": [
              "<Figure size 432x288 with 1 Axes>"
            ]
          },
          "metadata": {
            "tags": [],
            "needs_background": "light"
          }
        }
      ]
    }
  ]
}